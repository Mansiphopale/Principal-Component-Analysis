{
 "cells": [
  {
   "cell_type": "code",
   "execution_count": null,
   "id": "c51c8f0b-6242-47ed-88a2-77f0815099ca",
   "metadata": {},
   "outputs": [],
   "source": [
    "Aim : perform pca "
   ]
  },
  {
   "cell_type": "code",
   "execution_count": 20,
   "id": "12a50add-eb54-4206-b796-1415c157460c",
   "metadata": {},
   "outputs": [],
   "source": [
    "import pandas as pd\n",
    "import numpy as np \n",
    "import sympy as sp \n",
    "import matplotlib.pyplot as plt\n",
    "import math\n",
    "import statistics"
   ]
  },
  {
   "cell_type": "code",
   "execution_count": 21,
   "id": "e1c8b65d-e5c6-438b-b77b-a21930e4aa3e",
   "metadata": {},
   "outputs": [],
   "source": [
    "df=np.array([[2.4,2.4],[0.3,0.5],[2.3,3.4],[0.4,1.4],[2.0,2.1],[2.1,1.7],[2.5,1.3],[2.1,2.2],[1.2,3.0]])"
   ]
  },
  {
   "cell_type": "code",
   "execution_count": 22,
   "id": "e877cf45-b08e-49cb-a2a1-e4f847d4c30b",
   "metadata": {},
   "outputs": [
    {
     "data": {
      "text/plain": [
       "array([[2.4, 2.4],\n",
       "       [0.3, 0.5],\n",
       "       [2.3, 3.4],\n",
       "       [0.4, 1.4],\n",
       "       [2. , 2.1],\n",
       "       [2.1, 1.7],\n",
       "       [2.5, 1.3],\n",
       "       [2.1, 2.2],\n",
       "       [1.2, 3. ]])"
      ]
     },
     "execution_count": 22,
     "metadata": {},
     "output_type": "execute_result"
    }
   ],
   "source": [
    "df"
   ]
  },
  {
   "cell_type": "code",
   "execution_count": 25,
   "id": "c5ce543c-8610-4145-b182-312ec207d8c7",
   "metadata": {},
   "outputs": [],
   "source": [
    "df=pd.DataFrame(df,columns=['X','Y'])"
   ]
  },
  {
   "cell_type": "code",
   "execution_count": 26,
   "id": "a4ef1750-3465-4b10-9a71-6d7338853a2a",
   "metadata": {},
   "outputs": [
    {
     "data": {
      "text/html": [
       "<div>\n",
       "<style scoped>\n",
       "    .dataframe tbody tr th:only-of-type {\n",
       "        vertical-align: middle;\n",
       "    }\n",
       "\n",
       "    .dataframe tbody tr th {\n",
       "        vertical-align: top;\n",
       "    }\n",
       "\n",
       "    .dataframe thead th {\n",
       "        text-align: right;\n",
       "    }\n",
       "</style>\n",
       "<table border=\"1\" class=\"dataframe\">\n",
       "  <thead>\n",
       "    <tr style=\"text-align: right;\">\n",
       "      <th></th>\n",
       "      <th>X</th>\n",
       "      <th>Y</th>\n",
       "    </tr>\n",
       "  </thead>\n",
       "  <tbody>\n",
       "    <tr>\n",
       "      <th>count</th>\n",
       "      <td>9.000000</td>\n",
       "      <td>9.000000</td>\n",
       "    </tr>\n",
       "    <tr>\n",
       "      <th>mean</th>\n",
       "      <td>1.700000</td>\n",
       "      <td>2.000000</td>\n",
       "    </tr>\n",
       "    <tr>\n",
       "      <th>std</th>\n",
       "      <td>0.851469</td>\n",
       "      <td>0.891628</td>\n",
       "    </tr>\n",
       "    <tr>\n",
       "      <th>min</th>\n",
       "      <td>0.300000</td>\n",
       "      <td>0.500000</td>\n",
       "    </tr>\n",
       "    <tr>\n",
       "      <th>25%</th>\n",
       "      <td>1.200000</td>\n",
       "      <td>1.400000</td>\n",
       "    </tr>\n",
       "    <tr>\n",
       "      <th>50%</th>\n",
       "      <td>2.100000</td>\n",
       "      <td>2.100000</td>\n",
       "    </tr>\n",
       "    <tr>\n",
       "      <th>75%</th>\n",
       "      <td>2.300000</td>\n",
       "      <td>2.400000</td>\n",
       "    </tr>\n",
       "    <tr>\n",
       "      <th>max</th>\n",
       "      <td>2.500000</td>\n",
       "      <td>3.400000</td>\n",
       "    </tr>\n",
       "  </tbody>\n",
       "</table>\n",
       "</div>"
      ],
      "text/plain": [
       "              X         Y\n",
       "count  9.000000  9.000000\n",
       "mean   1.700000  2.000000\n",
       "std    0.851469  0.891628\n",
       "min    0.300000  0.500000\n",
       "25%    1.200000  1.400000\n",
       "50%    2.100000  2.100000\n",
       "75%    2.300000  2.400000\n",
       "max    2.500000  3.400000"
      ]
     },
     "execution_count": 26,
     "metadata": {},
     "output_type": "execute_result"
    }
   ],
   "source": [
    "df.describe()\n"
   ]
  },
  {
   "cell_type": "code",
   "execution_count": 35,
   "id": "67124df1-bbe9-4fb1-83b5-97b4b4abf2cc",
   "metadata": {},
   "outputs": [
    {
     "name": "stdout",
     "output_type": "stream",
     "text": [
      "<class 'numpy.ndarray'>\n"
     ]
    }
   ],
   "source": [
    "X_values_array=df[\"X\"].values\n",
    "print(type(X_values_array))\n",
    "Y_values_array=df[\"Y\"].values\n"
   ]
  },
  {
   "cell_type": "code",
   "execution_count": 36,
   "id": "e6700535-93dd-4b28-b2a8-fc93a8f54852",
   "metadata": {},
   "outputs": [
    {
     "data": {
      "image/png": "[encoded data removed]",
      "text/plain": [
       "<Figure size 640x480 with 1 Axes>"
      ]
     },
     "metadata": {},
     "output_type": "display_data"
    }
   ],
   "source": [
    "plt.scatter(X_values_array, Y_values_array)\n",
    "plt.show()"
   ]
  },
  {
   "cell_type": "code",
   "execution_count": 38,
   "id": "8ca06f1d-7ec0-4ab0-8aeb-86f91e446c23",
   "metadata": {},
   "outputs": [
    {
     "data": {
      "text/html": [
       "<div>\n",
       "<style scoped>\n",
       "    .dataframe tbody tr th:only-of-type {\n",
       "        vertical-align: middle;\n",
       "    }\n",
       "\n",
       "    .dataframe tbody tr th {\n",
       "        vertical-align: top;\n",
       "    }\n",
       "\n",
       "    .dataframe thead th {\n",
       "        text-align: right;\n",
       "    }\n",
       "</style>\n",
       "<table border=\"1\" class=\"dataframe\">\n",
       "  <thead>\n",
       "    <tr style=\"text-align: right;\">\n",
       "      <th></th>\n",
       "      <th>X</th>\n",
       "      <th>Y</th>\n",
       "    </tr>\n",
       "  </thead>\n",
       "  <tbody>\n",
       "    <tr>\n",
       "      <th>X</th>\n",
       "      <td>0.72500</td>\n",
       "      <td>0.36625</td>\n",
       "    </tr>\n",
       "    <tr>\n",
       "      <th>Y</th>\n",
       "      <td>0.36625</td>\n",
       "      <td>0.79500</td>\n",
       "    </tr>\n",
       "  </tbody>\n",
       "</table>\n",
       "</div>"
      ],
      "text/plain": [
       "         X        Y\n",
       "X  0.72500  0.36625\n",
       "Y  0.36625  0.79500"
      ]
     },
     "execution_count": 38,
     "metadata": {},
     "output_type": "execute_result"
    }
   ],
   "source": [
    "df.cov()   # covariance matrix"
   ]
  },
  {
   "cell_type": "code",
   "execution_count": 39,
   "id": "97125e41-b5be-4b3c-b508-7e320a742259",
   "metadata": {},
   "outputs": [
    {
     "data": {
      "text/plain": [
       "EigResult(eigenvalues=array([0.39208145, 1.12791855]), eigenvectors=array([[-0.73997627, -0.67263298],\n",
       "       [ 0.67263298, -0.73997627]]))"
      ]
     },
     "execution_count": 39,
     "metadata": {},
     "output_type": "execute_result"
    }
   ],
   "source": [
    "np.linalg.eig(df.cov())"
   ]
  },
  {
   "cell_type": "code",
   "execution_count": 41,
   "id": "7755d826-8a95-4cae-a08e-2fd1429f927c",
   "metadata": {},
   "outputs": [],
   "source": [
    "eigenvalues, eigenvectors=np.linalg.eig(df.cov())"
   ]
  },
  {
   "cell_type": "code",
   "execution_count": 45,
   "id": "3224bfb3-1bef-4ffe-9521-8aeda6fd9d77",
   "metadata": {},
   "outputs": [
    {
     "data": {
      "text/plain": [
       "array([0.39208145, 1.12791855])"
      ]
     },
     "execution_count": 45,
     "metadata": {},
     "output_type": "execute_result"
    }
   ],
   "source": [
    "eigenvalues"
   ]
  },
  {
   "cell_type": "code",
   "execution_count": 43,
   "id": "4dce49e9-a275-4aac-9324-26d3c85475ea",
   "metadata": {},
   "outputs": [
    {
     "data": {
      "text/plain": [
       "array([-0.73997627, -0.67263298])"
      ]
     },
     "execution_count": 43,
     "metadata": {},
     "output_type": "execute_result"
    }
   ],
   "source": [
    "eigenvectors[0]"
   ]
  },
  {
   "cell_type": "code",
   "execution_count": 44,
   "id": "228c2919-81e6-4885-838f-2389fce07b24",
   "metadata": {},
   "outputs": [
    {
     "name": "stdout",
     "output_type": "stream",
     "text": [
      "[-0.73997627  0.67263298]\n"
     ]
    }
   ],
   "source": [
    "V = eigenvectors\n",
    "print(V[:,0])"
   ]
  },
  {
   "cell_type": "code",
   "execution_count": 46,
   "id": "41dbf95e-ad90-480b-ae37-136dbe6786ee",
   "metadata": {},
   "outputs": [
    {
     "data": {
      "image/png": "[encoded data removed]",
      "text/plain": [
       "<Figure size 640x480 with 1 Axes>"
      ]
     },
     "metadata": {},
     "output_type": "display_data"
    }
   ],
   "source": [
    "V = eigenvectors\n",
    "origin = np.array([[0, 0],[0, 0]]) # origin point\n",
    "\n",
    "plt.quiver(*origin, V[0], V[1], color=['r','b'], scale=3)\n",
    "plt.title(\"The two eigen vectors are perpendicular\")\n",
    "plt.show()\n"
   ]
  },
  {
   "cell_type": "code",
   "execution_count": 49,
   "id": "8351499b-faf0-4320-9a6e-17cafe44da89",
   "metadata": {},
   "outputs": [],
   "source": [
    "x_bar=statistics.mean(df[\"X\"].values)"
   ]
  },
  {
   "cell_type": "code",
   "execution_count": 50,
   "id": "c482068b-690a-4089-9892-ea51249a697a",
   "metadata": {},
   "outputs": [],
   "source": [
    "y_bar=statistics.mean(df[\"Y\"].values)"
   ]
  },
  {
   "cell_type": "code",
   "execution_count": 56,
   "id": "e218f87d-25f2-4e49-95c0-90ece23f608d",
   "metadata": {},
   "outputs": [
    {
     "name": "stdout",
     "output_type": "stream",
     "text": [
      "[[-0.73997627 -0.67263298]\n",
      " [ 0.67263298 -0.73997627]]\n"
     ]
    },
    {
     "data": {
      "image/png": "[encoded data removed]",
      "text/plain": [
       "<Figure size 640x480 with 1 Axes>"
      ]
     },
     "metadata": {},
     "output_type": "display_data"
    }
   ],
   "source": [
    "plt.scatter(X_values_array, Y_values_array)\n",
    "V = eigenvectors\n",
    "print(V)\n",
    "origin = np.array([[x_bar, x_bar],[y_bar, y_bar]]) # origin point\n",
    "\n",
    "plt.quiver(*origin, V[0], V[1], color=['r','b'], scale=2)\n",
    "plt.title(\"Largest Eigen values correspond to the dimensions \\n that have the strongest correlation in the dataset \")\n",
    "plt.show()"
   ]
  },
  {
   "cell_type": "code",
   "execution_count": 53,
   "id": "d8b58583-53cf-443b-88e4-28d6ca481f7e",
   "metadata": {},
   "outputs": [
    {
     "data": {
      "text/plain": [
       "array([0.39208145, 1.12791855])"
      ]
     },
     "execution_count": 53,
     "metadata": {},
     "output_type": "execute_result"
    }
   ],
   "source": [
    "eigenvalues"
   ]
  },
  {
   "cell_type": "code",
   "execution_count": 54,
   "id": "c8545523-19a5-4e95-b2db-e3e562ee5a31",
   "metadata": {},
   "outputs": [],
   "source": [
    "lambda_max,lambda_min= max(eigenvalues),min(eigenvalues)"
   ]
  },
  {
   "cell_type": "code",
   "execution_count": 58,
   "id": "8f9e0ff1-9f99-417b-ad81-7c8559f4587d",
   "metadata": {},
   "outputs": [
    {
     "data": {
      "text/plain": [
       "1.1279185541665437"
      ]
     },
     "execution_count": 58,
     "metadata": {},
     "output_type": "execute_result"
    }
   ],
   "source": [
    "lambda_max\n"
   ]
  },
  {
   "cell_type": "code",
   "execution_count": 57,
   "id": "046194b9-2578-47da-b217-60034c2f2344",
   "metadata": {},
   "outputs": [
    {
     "data": {
      "text/plain": [
       "0.39208144583345633"
      ]
     },
     "execution_count": 57,
     "metadata": {},
     "output_type": "execute_result"
    }
   ],
   "source": [
    "lambda_min"
   ]
  },
  {
   "cell_type": "code",
   "execution_count": 60,
   "id": "72825701-2117-4889-8765-b9fb330681db",
   "metadata": {},
   "outputs": [],
   "source": [
    "lambda_max_index = np.argmax(eigenvalues)\n",
    "lambda_min_index = np.argmin(eigenvalues)\n"
   ]
  },
  {
   "cell_type": "code",
   "execution_count": 61,
   "id": "9d0554b8-5b41-47d6-b5ad-2d6a6961d929",
   "metadata": {},
   "outputs": [
    {
     "name": "stdout",
     "output_type": "stream",
     "text": [
      "1 0\n"
     ]
    }
   ],
   "source": [
    "print(lambda_max_index ,lambda_min_index)"
   ]
  },
  {
   "cell_type": "code",
   "execution_count": 63,
   "id": "4ba2ac69-4ff9-4771-9982-d1f9872261b6",
   "metadata": {},
   "outputs": [],
   "source": [
    "x_dev=[ele-x_bar for ele in X_values_array]"
   ]
  },
  {
   "cell_type": "code",
   "execution_count": 65,
   "id": "a140cd1d-10b7-40b0-894c-aadbd58f7153",
   "metadata": {},
   "outputs": [
    {
     "data": {
      "text/plain": [
       "[0.7,\n",
       " -1.4,\n",
       " 0.5999999999999999,\n",
       " -1.2999999999999998,\n",
       " 0.30000000000000004,\n",
       " 0.40000000000000013,\n",
       " 0.8,\n",
       " 0.40000000000000013,\n",
       " -0.5]"
      ]
     },
     "execution_count": 65,
     "metadata": {},
     "output_type": "execute_result"
    }
   ],
   "source": [
    "x_dev"
   ]
  },
  {
   "cell_type": "code",
   "execution_count": 68,
   "id": "57ffff17-99bf-450a-85c9-22a3fb607e54",
   "metadata": {},
   "outputs": [],
   "source": [
    "y_dev=[ele-y_bar for ele in Y_values_array]"
   ]
  },
  {
   "cell_type": "code",
   "execution_count": 69,
   "id": "e90e8f51-93c6-4e7c-aa27-340c11a0c425",
   "metadata": {},
   "outputs": [
    {
     "data": {
      "text/plain": [
       "[0.3999999999999999,\n",
       " -1.5,\n",
       " 1.4,\n",
       " -0.6000000000000001,\n",
       " 0.10000000000000009,\n",
       " -0.30000000000000004,\n",
       " -0.7,\n",
       " 0.20000000000000018,\n",
       " 1.0]"
      ]
     },
     "execution_count": 69,
     "metadata": {},
     "output_type": "execute_result"
    }
   ],
   "source": [
    "y_dev"
   ]
  },
  {
   "cell_type": "code",
   "execution_count": 70,
   "id": "207aeedc-b17d-4e9d-b552-60d2c7e6d93f",
   "metadata": {},
   "outputs": [
    {
     "data": {
      "image/png": "[encoded data removed]",
      "text/plain": [
       "<Figure size 640x480 with 1 Axes>"
      ]
     },
     "metadata": {},
     "output_type": "display_data"
    }
   ],
   "source": [
    "plt.scatter(x_dev, y_dev)\n",
    "plt.title(\"the data centered at (x_bar,y_bar) \\n has been shifted to (0,0)\")\n",
    "plt.show()\n"
   ]
  },
  {
   "cell_type": "code",
   "execution_count": 71,
   "id": "9663081d-7af6-489b-a0f7-35bcc0268f18",
   "metadata": {},
   "outputs": [
    {
     "data": {
      "text/plain": [
       "array([[ 0.7,  0.4],\n",
       "       [-1.4, -1.5],\n",
       "       [ 0.6,  1.4],\n",
       "       [-1.3, -0.6],\n",
       "       [ 0.3,  0.1],\n",
       "       [ 0.4, -0.3],\n",
       "       [ 0.8, -0.7],\n",
       "       [ 0.4,  0.2],\n",
       "       [-0.5,  1. ]])"
      ]
     },
     "execution_count": 71,
     "metadata": {},
     "output_type": "execute_result"
    }
   ],
   "source": [
    "np.column_stack((x_dev, y_dev))"
   ]
  },
  {
   "cell_type": "code",
   "execution_count": 72,
   "id": "3dfe2da0-c5a1-44d2-aa65-d24ee1e94272",
   "metadata": {},
   "outputs": [
    {
     "name": "stdout",
     "output_type": "stream",
     "text": [
      "-2.3085575804956946\n"
     ]
    }
   ],
   "source": [
    "vector1 = eigenvectors[:,1]\n",
    "vector2 = np.array([1,0])\n",
    "\n",
    "unit_vector1 = vector1 / np.linalg.norm(vector1)\n",
    "unit_vector2 = vector2 / np.linalg.norm(vector2)\n",
    "\n",
    "dot_product = np.dot(unit_vector1, unit_vector2)\n",
    "\n",
    "angle = -np.arccos(dot_product) #radians\n",
    "print(angle)\n",
    "angle_degree=angle*180/math.pi\n",
    "\n"
   ]
  },
  {
   "cell_type": "code",
   "execution_count": 76,
   "id": "539bc6f2-098e-409f-a027-97b7468a3ca1",
   "metadata": {},
   "outputs": [
    {
     "name": "stdout",
     "output_type": "stream",
     "text": [
      "227.72939387466386\n",
      "3.9746277266838916\n"
     ]
    }
   ],
   "source": [
    "angle=angle+ math.pi\n",
    "angle_degree=angle*180/math.pi\n",
    "print(angle_degree)\n",
    "print(angle)\n"
   ]
  },
  {
   "cell_type": "code",
   "execution_count": 77,
   "id": "bad157ce-afe7-4914-a107-c5bc45cc0c2d",
   "metadata": {},
   "outputs": [],
   "source": [
    "\n",
    "R=[[math.cos(angle),math.sin(angle)],[-math.sin(angle),math.cos(angle)]]"
   ]
  },
  {
   "cell_type": "code",
   "execution_count": 78,
   "id": "77647bed-58c5-4527-b3fb-203ff4f7c697",
   "metadata": {},
   "outputs": [],
   "source": [
    "Rotation_matrix=np.array(R)"
   ]
  },
  {
   "cell_type": "code",
   "execution_count": 79,
   "id": "f5e42bc5-0427-435f-b184-a16c6d4c80e8",
   "metadata": {},
   "outputs": [
    {
     "data": {
      "text/plain": [
       "array([[-0.67263298, -0.73997627],\n",
       "       [ 0.73997627, -0.67263298]])"
      ]
     },
     "execution_count": 79,
     "metadata": {},
     "output_type": "execute_result"
    }
   ],
   "source": [
    "Rotation_matrix"
   ]
  },
  {
   "cell_type": "code",
   "execution_count": 80,
   "id": "520afb56-f658-40dc-9916-7bb659adee2d",
   "metadata": {},
   "outputs": [],
   "source": [
    "data=[x_dev,y_dev]"
   ]
  },
  {
   "cell_type": "code",
   "execution_count": 81,
   "id": "93f88d8d-31e4-4256-8b08-a45c82510294",
   "metadata": {},
   "outputs": [],
   "source": [
    "data_array=np.array(data)"
   ]
  },
  {
   "cell_type": "code",
   "execution_count": 82,
   "id": "f7d57132-b682-452c-9a76-bdb52da5c9ab",
   "metadata": {},
   "outputs": [],
   "source": [
    "transformed_data=Rotation_matrix @ data_array"
   ]
  },
  {
   "cell_type": "code",
   "execution_count": 83,
   "id": "bcf49a1d-1340-4214-963b-aade1cfb28f8",
   "metadata": {},
   "outputs": [
    {
     "data": {
      "text/plain": [
       "array([[-0.76683359,  2.05165057, -1.43954656,  1.31840863, -0.27578752,\n",
       "        -0.04706031, -0.020123  , -0.41704845, -0.40365978],\n",
       "       [ 0.24893019, -0.0270173 , -0.49770041, -0.55838936,  0.15472958,\n",
       "         0.4977804 ,  1.0628241 ,  0.16146391, -1.04262111]])"
      ]
     },
     "execution_count": 83,
     "metadata": {},
     "output_type": "execute_result"
    }
   ],
   "source": [
    "transformed_data"
   ]
  },
  {
   "cell_type": "code",
   "execution_count": 85,
   "id": "7e72255d-f5d2-475b-8407-726693659b36",
   "metadata": {},
   "outputs": [
    {
     "data": {
      "image/png": "[encoded data removed]",
      "text/plain": [
       "<Figure size 640x480 with 1 Axes>"
      ]
     },
     "metadata": {},
     "output_type": "display_data"
    }
   ],
   "source": [
    "\n",
    "plt.scatter(transformed_data[0], transformed_data[1])\n",
    "plt.show()"
   ]
  },
  {
   "cell_type": "code",
   "execution_count": 86,
   "id": "e34b2f4c-8f60-45be-a0ba-804ed338a0da",
   "metadata": {},
   "outputs": [
    {
     "name": "stdout",
     "output_type": "stream",
     "text": [
      "EigenVectors:  [[-0.73997627 -0.67263298]\n",
      " [ 0.67263298 -0.73997627]]\n"
     ]
    }
   ],
   "source": [
    "v=eigenvectors\n",
    "print(\"EigenVectors: \",v)"
   ]
  },
  {
   "cell_type": "code",
   "execution_count": 87,
   "id": "5621fbd6-2974-443d-9ff7-218698cd757e",
   "metadata": {},
   "outputs": [
    {
     "name": "stdout",
     "output_type": "stream",
     "text": [
      "EigenValues:  [0.39208145 1.12791855]\n"
     ]
    }
   ],
   "source": [
    "w=eigenvalues\n",
    "print(\"EigenValues: \",w)"
   ]
  },
  {
   "cell_type": "code",
   "execution_count": null,
   "id": "3f648626-8c00-461e-a18a-bcc2ca735a13",
   "metadata": {},
   "outputs": [],
   "source": []
  },
  {
   "cell_type": "code",
   "execution_count": null,
   "id": "1d90681d-af92-4886-8bef-57bc2deccab4",
   "metadata": {},
   "outputs": [],
   "source": []
  }
 ],
 "metadata": {
  "kernelspec": {
   "display_name": "Python 3 (ipykernel)",
   "language": "python",
   "name": "python3"
  },
  "language_info": {
   "codemirror_mode": {
    "name": "ipython",
    "version": 3
   },
   "file_extension": ".py",
   "mimetype": "text/x-python",
   "name": "python",
   "nbconvert_exporter": "python",
   "pygments_lexer": "ipython3",
   "version": "3.12.4"
  }
 },
 "nbformat": 4,
 "nbformat_minor": 5
}
